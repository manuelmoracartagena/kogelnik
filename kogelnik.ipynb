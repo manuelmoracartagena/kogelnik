{
  "nbformat": 4,
  "nbformat_minor": 0,
  "metadata": {
    "colab": {
      "provenance": []
    },
    "kernelspec": {
      "name": "python3",
      "display_name": "Python 3"
    },
    "language_info": {
      "name": "python"
    },
    "widgets": {
      "application/vnd.jupyter.widget-state+json": {
        "7fd50f21e9f14f429f4fdf87f30db047": {
          "model_module": "@jupyter-widgets/controls",
          "model_name": "DropdownModel",
          "model_module_version": "1.5.0",
          "state": {
            "_dom_classes": [],
            "_model_module": "@jupyter-widgets/controls",
            "_model_module_version": "1.5.0",
            "_model_name": "DropdownModel",
            "_options_labels": [
              "15-02",
              "29-02",
              "07-03",
              "Espectofotómetro",
              "16-05",
              "17-05",
              "Espectofotómetro2"
            ],
            "_view_count": null,
            "_view_module": "@jupyter-widgets/controls",
            "_view_module_version": "1.5.0",
            "_view_name": "DropdownView",
            "description": "",
            "description_tooltip": null,
            "disabled": false,
            "index": 1,
            "layout": "IPY_MODEL_883cb970339f4af5bf46692a9de11973",
            "style": "IPY_MODEL_f369d7918af04aa58ba0e59db94a9fb4"
          }
        },
        "883cb970339f4af5bf46692a9de11973": {
          "model_module": "@jupyter-widgets/base",
          "model_name": "LayoutModel",
          "model_module_version": "1.2.0",
          "state": {
            "_model_module": "@jupyter-widgets/base",
            "_model_module_version": "1.2.0",
            "_model_name": "LayoutModel",
            "_view_count": null,
            "_view_module": "@jupyter-widgets/base",
            "_view_module_version": "1.2.0",
            "_view_name": "LayoutView",
            "align_content": null,
            "align_items": null,
            "align_self": null,
            "border": null,
            "bottom": null,
            "display": null,
            "flex": null,
            "flex_flow": null,
            "grid_area": null,
            "grid_auto_columns": null,
            "grid_auto_flow": null,
            "grid_auto_rows": null,
            "grid_column": null,
            "grid_gap": null,
            "grid_row": null,
            "grid_template_areas": null,
            "grid_template_columns": null,
            "grid_template_rows": null,
            "height": null,
            "justify_content": null,
            "justify_items": null,
            "left": null,
            "margin": null,
            "max_height": null,
            "max_width": null,
            "min_height": null,
            "min_width": null,
            "object_fit": null,
            "object_position": null,
            "order": null,
            "overflow": null,
            "overflow_x": null,
            "overflow_y": null,
            "padding": null,
            "right": null,
            "top": null,
            "visibility": null,
            "width": null
          }
        },
        "f369d7918af04aa58ba0e59db94a9fb4": {
          "model_module": "@jupyter-widgets/controls",
          "model_name": "DescriptionStyleModel",
          "model_module_version": "1.5.0",
          "state": {
            "_model_module": "@jupyter-widgets/controls",
            "_model_module_version": "1.5.0",
            "_model_name": "DescriptionStyleModel",
            "_view_count": null,
            "_view_module": "@jupyter-widgets/base",
            "_view_module_version": "1.2.0",
            "_view_name": "StyleView",
            "description_width": ""
          }
        },
        "c8982b0523e448fd83b8495b9a07b906": {
          "model_module": "@jupyter-widgets/controls",
          "model_name": "DropdownModel",
          "model_module_version": "1.5.0",
          "state": {
            "_dom_classes": [],
            "_model_module": "@jupyter-widgets/controls",
            "_model_module_version": "1.5.0",
            "_model_name": "DropdownModel",
            "_options_labels": [
              "15-02",
              "29-02",
              "07-03",
              "Espectofotómetro",
              "16-05",
              "17-05",
              "Espectofotómetro2"
            ],
            "_view_count": null,
            "_view_module": "@jupyter-widgets/controls",
            "_view_module_version": "1.5.0",
            "_view_name": "DropdownView",
            "description": "",
            "description_tooltip": null,
            "disabled": false,
            "index": 4,
            "layout": "IPY_MODEL_f7b026bcb79a4f20aa9fba29c26fcd08",
            "style": "IPY_MODEL_693e55a5086f4fd19ca80335a0904889"
          }
        },
        "f7b026bcb79a4f20aa9fba29c26fcd08": {
          "model_module": "@jupyter-widgets/base",
          "model_name": "LayoutModel",
          "model_module_version": "1.2.0",
          "state": {
            "_model_module": "@jupyter-widgets/base",
            "_model_module_version": "1.2.0",
            "_model_name": "LayoutModel",
            "_view_count": null,
            "_view_module": "@jupyter-widgets/base",
            "_view_module_version": "1.2.0",
            "_view_name": "LayoutView",
            "align_content": null,
            "align_items": null,
            "align_self": null,
            "border": null,
            "bottom": null,
            "display": null,
            "flex": null,
            "flex_flow": null,
            "grid_area": null,
            "grid_auto_columns": null,
            "grid_auto_flow": null,
            "grid_auto_rows": null,
            "grid_column": null,
            "grid_gap": null,
            "grid_row": null,
            "grid_template_areas": null,
            "grid_template_columns": null,
            "grid_template_rows": null,
            "height": null,
            "justify_content": null,
            "justify_items": null,
            "left": null,
            "margin": null,
            "max_height": null,
            "max_width": null,
            "min_height": null,
            "min_width": null,
            "object_fit": null,
            "object_position": null,
            "order": null,
            "overflow": null,
            "overflow_x": null,
            "overflow_y": null,
            "padding": null,
            "right": null,
            "top": null,
            "visibility": null,
            "width": null
          }
        },
        "693e55a5086f4fd19ca80335a0904889": {
          "model_module": "@jupyter-widgets/controls",
          "model_name": "DescriptionStyleModel",
          "model_module_version": "1.5.0",
          "state": {
            "_model_module": "@jupyter-widgets/controls",
            "_model_module_version": "1.5.0",
            "_model_name": "DescriptionStyleModel",
            "_view_count": null,
            "_view_module": "@jupyter-widgets/base",
            "_view_module_version": "1.2.0",
            "_view_name": "StyleView",
            "description_width": ""
          }
        },
        "356745fc4c7d47968f221365908b01f7": {
          "model_module": "@jupyter-widgets/controls",
          "model_name": "DropdownModel",
          "model_module_version": "1.5.0",
          "state": {
            "_dom_classes": [],
            "_model_module": "@jupyter-widgets/controls",
            "_model_module_version": "1.5.0",
            "_model_name": "DropdownModel",
            "_options_labels": [
              "scan_Prueba_a-9.txt",
              "scan_Prueba_a-19.txt",
              "scan_Prueba_a19.txt",
              "scan_hdplc_ref_473_a-0.txt",
              "scan_hdplc_ref_473_2_a-0.txt",
              "scan_hdplc_3060_473_aire_a-0.txt",
              "scan_Bayfol_3060_473_a-0.txt",
              "scan_Bayfol_3060_473_2_a-0.txt",
              "scan_Bayfol_ref_473_a-0.txt",
              "scan_hdplc_3060_473_a-0.txt",
              "scan_hdplc_3060_473_2_a-0.txt"
            ],
            "_view_count": null,
            "_view_module": "@jupyter-widgets/controls",
            "_view_module_version": "1.5.0",
            "_view_name": "DropdownView",
            "description": "",
            "description_tooltip": null,
            "disabled": false,
            "index": 9,
            "layout": "IPY_MODEL_236699860e2947ae92eb51cbb534a6ef",
            "style": "IPY_MODEL_c5385e54c13e4055bcd82f8e0d233cf1"
          }
        },
        "236699860e2947ae92eb51cbb534a6ef": {
          "model_module": "@jupyter-widgets/base",
          "model_name": "LayoutModel",
          "model_module_version": "1.2.0",
          "state": {
            "_model_module": "@jupyter-widgets/base",
            "_model_module_version": "1.2.0",
            "_model_name": "LayoutModel",
            "_view_count": null,
            "_view_module": "@jupyter-widgets/base",
            "_view_module_version": "1.2.0",
            "_view_name": "LayoutView",
            "align_content": null,
            "align_items": null,
            "align_self": null,
            "border": null,
            "bottom": null,
            "display": null,
            "flex": null,
            "flex_flow": null,
            "grid_area": null,
            "grid_auto_columns": null,
            "grid_auto_flow": null,
            "grid_auto_rows": null,
            "grid_column": null,
            "grid_gap": null,
            "grid_row": null,
            "grid_template_areas": null,
            "grid_template_columns": null,
            "grid_template_rows": null,
            "height": null,
            "justify_content": null,
            "justify_items": null,
            "left": null,
            "margin": null,
            "max_height": null,
            "max_width": null,
            "min_height": null,
            "min_width": null,
            "object_fit": null,
            "object_position": null,
            "order": null,
            "overflow": null,
            "overflow_x": null,
            "overflow_y": null,
            "padding": null,
            "right": null,
            "top": null,
            "visibility": null,
            "width": null
          }
        },
        "c5385e54c13e4055bcd82f8e0d233cf1": {
          "model_module": "@jupyter-widgets/controls",
          "model_name": "DescriptionStyleModel",
          "model_module_version": "1.5.0",
          "state": {
            "_model_module": "@jupyter-widgets/controls",
            "_model_module_version": "1.5.0",
            "_model_name": "DescriptionStyleModel",
            "_view_count": null,
            "_view_module": "@jupyter-widgets/base",
            "_view_module_version": "1.2.0",
            "_view_name": "StyleView",
            "description_width": ""
          }
        },
        "bdc55f638a4c46fc9f44a2671e92f15d": {
          "model_module": "@jupyter-widgets/controls",
          "model_name": "DropdownModel",
          "model_module_version": "1.5.0",
          "state": {
            "_dom_classes": [],
            "_model_module": "@jupyter-widgets/controls",
            "_model_module_version": "1.5.0",
            "_model_name": "DropdownModel",
            "_options_labels": [
              "scan_hpdlc_532_a29.txt",
              "scan_Bayfol_532_15s_a-29.txt",
              "scan_Bayfol_532_15s_a-31.txt",
              "scan_Bayfol_532_15s_60_a-59.txt",
              "scan_Bayfol_532_30s_a-31.txt",
              "scan_Bayfol_532_40s_a-31.txt",
              "scan_Bayfol_532_MATERIAL_a-31.txt",
              "scan_Bayfol_532_10s_a-31.txt",
              "scan_Bayfol_532_20s_a-31.txt",
              "scan_Bayfol_532_25s_a-31.txt"
            ],
            "_view_count": null,
            "_view_module": "@jupyter-widgets/controls",
            "_view_module_version": "1.5.0",
            "_view_name": "DropdownView",
            "description": "",
            "description_tooltip": null,
            "disabled": false,
            "index": 0,
            "layout": "IPY_MODEL_9778f1b822fc42d3b056e0f027769bee",
            "style": "IPY_MODEL_68bd7519f74849ffbc2b2429276c7bc9"
          }
        },
        "9778f1b822fc42d3b056e0f027769bee": {
          "model_module": "@jupyter-widgets/base",
          "model_name": "LayoutModel",
          "model_module_version": "1.2.0",
          "state": {
            "_model_module": "@jupyter-widgets/base",
            "_model_module_version": "1.2.0",
            "_model_name": "LayoutModel",
            "_view_count": null,
            "_view_module": "@jupyter-widgets/base",
            "_view_module_version": "1.2.0",
            "_view_name": "LayoutView",
            "align_content": null,
            "align_items": null,
            "align_self": null,
            "border": null,
            "bottom": null,
            "display": null,
            "flex": null,
            "flex_flow": null,
            "grid_area": null,
            "grid_auto_columns": null,
            "grid_auto_flow": null,
            "grid_auto_rows": null,
            "grid_column": null,
            "grid_gap": null,
            "grid_row": null,
            "grid_template_areas": null,
            "grid_template_columns": null,
            "grid_template_rows": null,
            "height": null,
            "justify_content": null,
            "justify_items": null,
            "left": null,
            "margin": null,
            "max_height": null,
            "max_width": null,
            "min_height": null,
            "min_width": null,
            "object_fit": null,
            "object_position": null,
            "order": null,
            "overflow": null,
            "overflow_x": null,
            "overflow_y": null,
            "padding": null,
            "right": null,
            "top": null,
            "visibility": null,
            "width": null
          }
        },
        "68bd7519f74849ffbc2b2429276c7bc9": {
          "model_module": "@jupyter-widgets/controls",
          "model_name": "DescriptionStyleModel",
          "model_module_version": "1.5.0",
          "state": {
            "_model_module": "@jupyter-widgets/controls",
            "_model_module_version": "1.5.0",
            "_model_name": "DescriptionStyleModel",
            "_view_count": null,
            "_view_module": "@jupyter-widgets/base",
            "_view_module_version": "1.2.0",
            "_view_name": "StyleView",
            "description_width": ""
          }
        },
        "2b7b036f50f74450a7d38349cee67b0a": {
          "model_module": "@jupyter-widgets/controls",
          "model_name": "DropdownModel",
          "model_module_version": "1.5.0",
          "state": {
            "_dom_classes": [],
            "_model_module": "@jupyter-widgets/controls",
            "_model_module_version": "1.5.0",
            "_model_name": "DropdownModel",
            "_options_labels": [
              "scan_Prueba_a-9.txt",
              "scan_Prueba_a-19.txt",
              "scan_Prueba_a19.txt",
              "scan_hdplc_ref_473_a-0.txt",
              "scan_hdplc_ref_473_2_a-0.txt",
              "scan_hdplc_3060_473_aire_a-0.txt",
              "scan_Bayfol_3060_473_a-0.txt",
              "scan_Bayfol_3060_473_2_a-0.txt",
              "scan_Bayfol_ref_473_a-0.txt",
              "scan_hdplc_3060_473_a-0.txt",
              "scan_hdplc_3060_473_2_a-0.txt"
            ],
            "_view_count": null,
            "_view_module": "@jupyter-widgets/controls",
            "_view_module_version": "1.5.0",
            "_view_name": "DropdownView",
            "description": "",
            "description_tooltip": null,
            "disabled": false,
            "index": 3,
            "layout": "IPY_MODEL_e00bccdbb96146999681c15d6fa85df4",
            "style": "IPY_MODEL_85983f0d438a40cd906d31d503815278"
          }
        },
        "e00bccdbb96146999681c15d6fa85df4": {
          "model_module": "@jupyter-widgets/base",
          "model_name": "LayoutModel",
          "model_module_version": "1.2.0",
          "state": {
            "_model_module": "@jupyter-widgets/base",
            "_model_module_version": "1.2.0",
            "_model_name": "LayoutModel",
            "_view_count": null,
            "_view_module": "@jupyter-widgets/base",
            "_view_module_version": "1.2.0",
            "_view_name": "LayoutView",
            "align_content": null,
            "align_items": null,
            "align_self": null,
            "border": null,
            "bottom": null,
            "display": null,
            "flex": null,
            "flex_flow": null,
            "grid_area": null,
            "grid_auto_columns": null,
            "grid_auto_flow": null,
            "grid_auto_rows": null,
            "grid_column": null,
            "grid_gap": null,
            "grid_row": null,
            "grid_template_areas": null,
            "grid_template_columns": null,
            "grid_template_rows": null,
            "height": null,
            "justify_content": null,
            "justify_items": null,
            "left": null,
            "margin": null,
            "max_height": null,
            "max_width": null,
            "min_height": null,
            "min_width": null,
            "object_fit": null,
            "object_position": null,
            "order": null,
            "overflow": null,
            "overflow_x": null,
            "overflow_y": null,
            "padding": null,
            "right": null,
            "top": null,
            "visibility": null,
            "width": null
          }
        },
        "85983f0d438a40cd906d31d503815278": {
          "model_module": "@jupyter-widgets/controls",
          "model_name": "DescriptionStyleModel",
          "model_module_version": "1.5.0",
          "state": {
            "_model_module": "@jupyter-widgets/controls",
            "_model_module_version": "1.5.0",
            "_model_name": "DescriptionStyleModel",
            "_view_count": null,
            "_view_module": "@jupyter-widgets/base",
            "_view_module_version": "1.2.0",
            "_view_name": "StyleView",
            "description_width": ""
          }
        },
        "c9673f0a6a1244ea91bbfad613bd62aa": {
          "model_module": "@jupyter-widgets/controls",
          "model_name": "DropdownModel",
          "model_module_version": "1.5.0",
          "state": {
            "_dom_classes": [],
            "_model_module": "@jupyter-widgets/controls",
            "_model_module_version": "1.5.0",
            "_model_name": "DropdownModel",
            "_options_labels": [
              "scan_hpdlc_532_a29.txt",
              "scan_Bayfol_532_15s_a-29.txt",
              "scan_Bayfol_532_15s_a-31.txt",
              "scan_Bayfol_532_15s_60_a-59.txt",
              "scan_Bayfol_532_30s_a-31.txt",
              "scan_Bayfol_532_40s_a-31.txt",
              "scan_Bayfol_532_MATERIAL_a-31.txt",
              "scan_Bayfol_532_10s_a-31.txt",
              "scan_Bayfol_532_20s_a-31.txt",
              "scan_Bayfol_532_25s_a-31.txt"
            ],
            "_view_count": null,
            "_view_module": "@jupyter-widgets/controls",
            "_view_module_version": "1.5.0",
            "_view_name": "DropdownView",
            "description": "",
            "description_tooltip": null,
            "disabled": false,
            "index": 0,
            "layout": "IPY_MODEL_0aa10e9227a040b7907ca5003b32b106",
            "style": "IPY_MODEL_ffd827e6d69147588711f80f3c77c4a1"
          }
        },
        "0aa10e9227a040b7907ca5003b32b106": {
          "model_module": "@jupyter-widgets/base",
          "model_name": "LayoutModel",
          "model_module_version": "1.2.0",
          "state": {
            "_model_module": "@jupyter-widgets/base",
            "_model_module_version": "1.2.0",
            "_model_name": "LayoutModel",
            "_view_count": null,
            "_view_module": "@jupyter-widgets/base",
            "_view_module_version": "1.2.0",
            "_view_name": "LayoutView",
            "align_content": null,
            "align_items": null,
            "align_self": null,
            "border": null,
            "bottom": null,
            "display": null,
            "flex": null,
            "flex_flow": null,
            "grid_area": null,
            "grid_auto_columns": null,
            "grid_auto_flow": null,
            "grid_auto_rows": null,
            "grid_column": null,
            "grid_gap": null,
            "grid_row": null,
            "grid_template_areas": null,
            "grid_template_columns": null,
            "grid_template_rows": null,
            "height": null,
            "justify_content": null,
            "justify_items": null,
            "left": null,
            "margin": null,
            "max_height": null,
            "max_width": null,
            "min_height": null,
            "min_width": null,
            "object_fit": null,
            "object_position": null,
            "order": null,
            "overflow": null,
            "overflow_x": null,
            "overflow_y": null,
            "padding": null,
            "right": null,
            "top": null,
            "visibility": null,
            "width": null
          }
        },
        "ffd827e6d69147588711f80f3c77c4a1": {
          "model_module": "@jupyter-widgets/controls",
          "model_name": "DescriptionStyleModel",
          "model_module_version": "1.5.0",
          "state": {
            "_model_module": "@jupyter-widgets/controls",
            "_model_module_version": "1.5.0",
            "_model_name": "DescriptionStyleModel",
            "_view_count": null,
            "_view_module": "@jupyter-widgets/base",
            "_view_module_version": "1.2.0",
            "_view_name": "StyleView",
            "description_width": ""
          }
        }
      }
    }
  },
  "cells": [
    {
      "cell_type": "markdown",
      "source": [
        "# Librerías"
      ],
      "metadata": {
        "id": "Xok49dEECOIt"
      }
    },
    {
      "cell_type": "code",
      "source": [
        "import numpy as np\n",
        "import matplotlib.pyplot as plt\n",
        "import os\n",
        "import ipywidgets as widgets\n",
        "from ipywidgets import interact"
      ],
      "metadata": {
        "id": "y7PjnZOTCPqr"
      },
      "execution_count": null,
      "outputs": []
    },
    {
      "cell_type": "markdown",
      "source": [
        "# Montar Google Drive"
      ],
      "metadata": {
        "id": "6aTDHFbLNbTb"
      }
    },
    {
      "cell_type": "code",
      "source": [
        "from google.colab import drive\n",
        "drive.mount('/content/drive')"
      ],
      "metadata": {
        "colab": {
          "base_uri": "https://localhost:8080/"
        },
        "id": "-EuVsgdCMDma",
        "outputId": "795989d6-fecf-4092-c6bd-dd472d8dfd4c"
      },
      "execution_count": null,
      "outputs": [
        {
          "output_type": "stream",
          "name": "stdout",
          "text": [
            "Mounted at /content/drive\n"
          ]
        }
      ]
    },
    {
      "cell_type": "markdown",
      "source": [
        "# Funciones"
      ],
      "metadata": {
        "id": "QSih2gqUQA16"
      }
    },
    {
      "cell_type": "code",
      "source": [
        "def snell(n1, n2, theta1):\n",
        "    theta2 = np.arcsin(n1*np.sin(theta1)/n2)\n",
        "    return theta2\n",
        "\n",
        "\n",
        "def registro(lambda_registro, theta_ref, theta_obj, n_material):\n",
        "    theta_ref_material = snell(n_aire, n_material, theta_ref) #Define el ángulo del haz de referencia en el material\n",
        "    theta_obj_material = snell(n_aire, n_material, theta_obj) #Define el ángulo del haz objeto en el material\n",
        "    beta = 2*np.pi*n_material/lambda_registro #Define el parámetro beta de registro (constante de propagación)\n",
        "    Kx = beta*(np.sin(theta_ref_material+np.pi) - np.sin(theta_obj_material)) #Define la componente x del vector de red\n",
        "    Kz = beta*(np.cos(theta_ref_material+np.pi) - np.cos(theta_obj_material)) #Define la componente z del vector de red\n",
        "    K = np.sqrt(Kx**2+Kz**2) #Define el módulo del vector de red\n",
        "    Lambda = 2*np.pi/K #Define el periodo de la red\n",
        "    phi = np.arctan(Kx/Kz) #Define el ángulo de inclinación de los planos de Bragg\n",
        "    return Lambda, phi\n",
        "\n",
        "\n",
        "def kogelnik(lambda_reconstruccion, theta_rec, n_material, Lambda, phi, n1, alpha1, alpha, d):\n",
        "    theta_rec_material = snell(n_aire, n_vidrio, theta_rec) #Define el ángulo del haz de reconstrucción en el material\n",
        "    K = 2*np.pi/Lambda #Define el módulo del vector de red\n",
        "    beta = 2*np.pi*n_material/lambda_reconstruccion #Define el parámetro beta de reconstrucción (constante de propagación)\n",
        "    cr = np.cos(theta_rec_material) #Define el parámetro cr\n",
        "    cs = np.cos(theta_rec_material) - K*np.cos(phi)/beta #Define el parámetro cs\n",
        "    depashing = K*np.cos(phi-theta_rec_material) - K**2*lambda_reconstruccion/(4*np.pi*n_material) #Define el parámetro de depashing\n",
        "    coupling = np.pi*n1/lambda_reconstruccion - 1j*alpha1/2 #Define la constante de acoplamiento\n",
        "    gamma1 = -0.5*(alpha/cr + alpha/cs + 1j*depashing/cs) + 0.5*np.sqrt((alpha/cr - alpha/cs - 1j*depashing/cs)**2 - 4*coupling**2/(cr*cs)) #Define la constante gamma1\n",
        "    gamma2 = -0.5*(alpha/cr + alpha/cs + 1j*depashing/cs) - 0.5*np.sqrt((alpha/cr - alpha/cs - 1j*depashing/cs)**2 - 4*coupling**2/(cr*cs)) #Define la constante gamma2\n",
        "    S = -1j*coupling/(alpha + 1j*depashing + cs*((gamma1*np.exp(gamma2*d) - gamma2*np.exp(gamma1*d))/(np.exp(gamma2*d) - np.exp(gamma1*d))))\n",
        "    eta = np.abs(cs)*np.abs(S)**2/cr\n",
        "    return eta\n",
        "\n",
        "def readTXTLabView(name):\n",
        "  file = open(name, \"r\")\n",
        "  i = 0\n",
        "  for line in file:\n",
        "      A = file.readlines()\n",
        "      i+=1\n",
        "  for i in range(len(A)):\n",
        "      A[i] = A[i].replace('\\n',\" \")\n",
        "      A[i] = A[i].replace('\\t',\" \")\n",
        "      A[i] = A[i].split()\n",
        "  Datos = np.empty((len(A)-7,4))\n",
        "  for i in range(3,len(A)-4):\n",
        "      for j in range(4):\n",
        "          Datos[i-3][j] = float(A[i][j])\n",
        "  file.close()\n",
        "  degree, power = Datos[:,2], Datos[:,3]*1e6\n",
        "\n",
        "  return degree, power"
      ],
      "metadata": {
        "id": "OvoLEBaZAVQU"
      },
      "execution_count": null,
      "outputs": []
    },
    {
      "cell_type": "markdown",
      "source": [
        "# Constantes"
      ],
      "metadata": {
        "id": "pHH5n95tB5-y"
      }
    },
    {
      "cell_type": "code",
      "source": [
        "n_aire = 1 #Define el índice de refracción del aire\n",
        "n_vidrio = 1.5 #Define el índice de refracción del vidrio\n",
        "n_material = 1.505 #Define el índice de refracción del material\n",
        "lambda_verde = 0.523 #Define la longitd de onda de registro, corresponde al verde\n",
        "lambda_azul = 0.473 #Define la longitd de onda de reconstrucción, corresponde al azul\n",
        "alpha1 = 0 #Define la amplitud de la modulación espacial de la constante de absorción\n",
        "mu = 1 #Define la permeabilidad del medio (creo que puede ponerse la del vacio)\n",
        "c = 1 #Define la velocidad de la luz en el vacío\n",
        "sigma0 = 0 #Conductividad media\n",
        "e0 = 1 #Constante dieléctrica media\n",
        "alpha = mu*c*sigma0/(2*e0**0.5) #Define la constante de absorción media"
      ],
      "metadata": {
        "id": "yOYwIIPQCBXm"
      },
      "execution_count": null,
      "outputs": []
    },
    {
      "cell_type": "markdown",
      "source": [
        "# Importar datos experimentales"
      ],
      "metadata": {
        "id": "RQpXyYljQjT3"
      }
    },
    {
      "cell_type": "markdown",
      "source": [
        "## Seleccionar carpeta"
      ],
      "metadata": {
        "id": "boGmsW-azhkE"
      }
    },
    {
      "cell_type": "code",
      "source": [
        "path = '/content/drive/Othercomputers/Mi PC/Universidad/4º Cuarto/TFG/Datos'\n",
        "lista_nombres = os.listdir(path)\n",
        "namecarpeta = widgets.Dropdown(options=lista_nombres)\n",
        "print('Selecciona la carpeta 1')\n",
        "display(namecarpeta)\n",
        "\n",
        "path2 = '/content/drive/Othercomputers/Mi PC/Universidad/4º Cuarto/TFG/Datos'\n",
        "lista_nombres2 = os.listdir(path2)\n",
        "namecarpeta2 = widgets.Dropdown(options=lista_nombres2)\n",
        "print('Selecciona la carpeta 2')\n",
        "display(namecarpeta2)"
      ],
      "metadata": {
        "colab": {
          "base_uri": "https://localhost:8080/",
          "height": 116,
          "referenced_widgets": [
            "7fd50f21e9f14f429f4fdf87f30db047",
            "883cb970339f4af5bf46692a9de11973",
            "f369d7918af04aa58ba0e59db94a9fb4",
            "c8982b0523e448fd83b8495b9a07b906",
            "f7b026bcb79a4f20aa9fba29c26fcd08",
            "693e55a5086f4fd19ca80335a0904889"
          ]
        },
        "outputId": "82c53ad4-80ab-49ed-932e-be7573e3cbdb",
        "id": "Px2Q8VNnzhkE"
      },
      "execution_count": null,
      "outputs": [
        {
          "output_type": "stream",
          "name": "stdout",
          "text": [
            "Selecciona la carpeta 1\n"
          ]
        },
        {
          "output_type": "display_data",
          "data": {
            "text/plain": [
              "Dropdown(options=('15-02', '29-02', '07-03', 'Espectofotómetro', '16-05', '17-05', 'Espectofotómetro2'), val…"
            ],
            "application/vnd.jupyter.widget-view+json": {
              "version_major": 2,
              "version_minor": 0,
              "model_id": "7fd50f21e9f14f429f4fdf87f30db047"
            }
          },
          "metadata": {}
        },
        {
          "output_type": "stream",
          "name": "stdout",
          "text": [
            "Selecciona la carpeta 2\n"
          ]
        },
        {
          "output_type": "display_data",
          "data": {
            "text/plain": [
              "Dropdown(options=('15-02', '29-02', '07-03', 'Espectofotómetro', '16-05', '17-05', 'Espectofotómetro2'), val…"
            ],
            "application/vnd.jupyter.widget-view+json": {
              "version_major": 2,
              "version_minor": 0,
              "model_id": "c8982b0523e448fd83b8495b9a07b906"
            }
          },
          "metadata": {}
        }
      ]
    },
    {
      "cell_type": "markdown",
      "source": [
        "## Seleccionar archivos"
      ],
      "metadata": {
        "id": "iooeyseIzhkE"
      }
    },
    {
      "cell_type": "markdown",
      "source": [
        "### Seleccionar archivo"
      ],
      "metadata": {
        "id": "gySzDqcazhkE"
      }
    },
    {
      "cell_type": "code",
      "source": [
        "path = '/content/drive/Othercomputers/Mi PC/Universidad/4º Cuarto/TFG/Datos/' + namecarpeta.value + '/'\n",
        "lista_nombres = os.listdir(path)\n",
        "name = widgets.Dropdown(options=lista_nombres)\n",
        "print('Selecciona el archivo 1')\n",
        "display(name)\n",
        "\n",
        "path2 = '/content/drive/Othercomputers/Mi PC/Universidad/4º Cuarto/TFG/Datos/' + namecarpeta2.value + '/'\n",
        "lista_nombres2 = os.listdir(path2)\n",
        "name2 = widgets.Dropdown(options=lista_nombres2)\n",
        "print('Selecciona el archivo 2')\n",
        "display(name2)"
      ],
      "metadata": {
        "colab": {
          "base_uri": "https://localhost:8080/",
          "height": 116,
          "referenced_widgets": [
            "356745fc4c7d47968f221365908b01f7",
            "236699860e2947ae92eb51cbb534a6ef",
            "c5385e54c13e4055bcd82f8e0d233cf1",
            "bdc55f638a4c46fc9f44a2671e92f15d",
            "9778f1b822fc42d3b056e0f027769bee",
            "68bd7519f74849ffbc2b2429276c7bc9"
          ]
        },
        "outputId": "db23e467-9e49-4c7d-a39f-fd7278a59cf2",
        "id": "ZfIBWKiVzhkF"
      },
      "execution_count": null,
      "outputs": [
        {
          "output_type": "stream",
          "name": "stdout",
          "text": [
            "Selecciona el archivo 1\n"
          ]
        },
        {
          "output_type": "display_data",
          "data": {
            "text/plain": [
              "Dropdown(options=('scan_Prueba_a-9.txt', 'scan_Prueba_a-19.txt', 'scan_Prueba_a19.txt', 'scan_hdplc_ref_473_a-…"
            ],
            "application/vnd.jupyter.widget-view+json": {
              "version_major": 2,
              "version_minor": 0,
              "model_id": "356745fc4c7d47968f221365908b01f7"
            }
          },
          "metadata": {}
        },
        {
          "output_type": "stream",
          "name": "stdout",
          "text": [
            "Selecciona el archivo 2\n"
          ]
        },
        {
          "output_type": "display_data",
          "data": {
            "text/plain": [
              "Dropdown(options=('scan_hpdlc_532_a29.txt', 'scan_Bayfol_532_15s_a-29.txt', 'scan_Bayfol_532_15s_a-31.txt', 's…"
            ],
            "application/vnd.jupyter.widget-view+json": {
              "version_major": 2,
              "version_minor": 0,
              "model_id": "bdc55f638a4c46fc9f44a2671e92f15d"
            }
          },
          "metadata": {}
        }
      ]
    },
    {
      "cell_type": "markdown",
      "source": [
        "### Seleccionar archivo de referencia"
      ],
      "metadata": {
        "id": "ZDiQsMWWzhkF"
      }
    },
    {
      "cell_type": "code",
      "source": [
        "path = '/content/drive/Othercomputers/Mi PC/Universidad/4º Cuarto/TFG/Datos/' + namecarpeta.value + '/'\n",
        "lista_nombres = os.listdir(path)\n",
        "name_ref = widgets.Dropdown(options=lista_nombres)\n",
        "print('Selecciona el archivo  de referencia 1')\n",
        "display(name_ref)\n",
        "\n",
        "path2 = '/content/drive/Othercomputers/Mi PC/Universidad/4º Cuarto/TFG/Datos/' + namecarpeta2.value + '/'\n",
        "lista_nombres = os.listdir(path2)\n",
        "name_ref2 = widgets.Dropdown(options=lista_nombres2)\n",
        "print('Selecciona el archivo de referencia 2')\n",
        "display(name_ref2)"
      ],
      "metadata": {
        "colab": {
          "base_uri": "https://localhost:8080/",
          "height": 116,
          "referenced_widgets": [
            "2b7b036f50f74450a7d38349cee67b0a",
            "e00bccdbb96146999681c15d6fa85df4",
            "85983f0d438a40cd906d31d503815278",
            "c9673f0a6a1244ea91bbfad613bd62aa",
            "0aa10e9227a040b7907ca5003b32b106",
            "ffd827e6d69147588711f80f3c77c4a1"
          ]
        },
        "outputId": "7cce1917-4afc-4b12-c08c-bbaf3481088f",
        "id": "_x1SiqGMzhkF"
      },
      "execution_count": null,
      "outputs": [
        {
          "output_type": "stream",
          "name": "stdout",
          "text": [
            "Selecciona el archivo  de referencia 1\n"
          ]
        },
        {
          "output_type": "display_data",
          "data": {
            "text/plain": [
              "Dropdown(options=('scan_Prueba_a-9.txt', 'scan_Prueba_a-19.txt', 'scan_Prueba_a19.txt', 'scan_hdplc_ref_473_a-…"
            ],
            "application/vnd.jupyter.widget-view+json": {
              "version_major": 2,
              "version_minor": 0,
              "model_id": "2b7b036f50f74450a7d38349cee67b0a"
            }
          },
          "metadata": {}
        },
        {
          "output_type": "stream",
          "name": "stdout",
          "text": [
            "Selecciona el archivo de referencia 2\n"
          ]
        },
        {
          "output_type": "display_data",
          "data": {
            "text/plain": [
              "Dropdown(options=('scan_hpdlc_532_a29.txt', 'scan_Bayfol_532_15s_a-29.txt', 'scan_Bayfol_532_15s_a-31.txt', 's…"
            ],
            "application/vnd.jupyter.widget-view+json": {
              "version_major": 2,
              "version_minor": 0,
              "model_id": "c9673f0a6a1244ea91bbfad613bd62aa"
            }
          },
          "metadata": {}
        }
      ]
    },
    {
      "cell_type": "markdown",
      "source": [
        "# Leer archivo"
      ],
      "metadata": {
        "id": "WEavzBcISbvv"
      }
    },
    {
      "cell_type": "code",
      "source": [
        "file_name = '/content/drive/Othercomputers/Mi PC/Universidad/4º Cuarto/TFG/Datos/' + namecarpeta.value + '/' + name.value\n",
        "degree, power = readTXTLabView(file_name)\n",
        "file_name_ref = '/content/drive/Othercomputers/Mi PC/Universidad/4º Cuarto/TFG/Datos/' + namecarpeta.value + '/' + name_ref.value\n",
        "degree_ref, power_ref = readTXTLabView(file_name_ref)\n",
        "power_ref_mean = np.mean(power_ref)\n",
        "degree_final = degree\n",
        "power_final = power/power.max()\n",
        "rendimiento = np.max(power_final)-np.min(power_final)\n",
        "print('rendimiento = ' + str(rendimiento))\n",
        "\n",
        "file_name2 = '/content/drive/Othercomputers/Mi PC/Universidad/4º Cuarto/TFG/Datos/' + namecarpeta2.value + '/' + name2.value\n",
        "degree2, power2 = readTXTLabView(file_name2)\n",
        "file_name_ref2 = '/content/drive/Othercomputers/Mi PC/Universidad/4º Cuarto/TFG/Datos/' + namecarpeta2.value + '/' + name_ref2.value\n",
        "degree_ref2, power_ref2 = readTXTLabView(file_name_ref2)\n",
        "power_ref_mean2 = np.mean(power_ref2)\n",
        "degree_final2 = degree2\n",
        "power_final2 = np.flip(power2/power2.max())\n",
        "rendimiento2 = np.max(power_final2[30:len(degree_final2)])-np.min(power_final2[30:len(degree_final2)])\n",
        "print('rendimiento_2 = ' + str(rendimiento2))"
      ],
      "metadata": {
        "id": "YC6_VWwbSeU7",
        "colab": {
          "base_uri": "https://localhost:8080/"
        },
        "outputId": "249aa3a1-de11-4bdf-9dda-f178e4929136"
      },
      "execution_count": null,
      "outputs": [
        {
          "output_type": "stream",
          "name": "stdout",
          "text": [
            "rendimiento = 0.1317023445463812\n",
            "rendimiento_2 = 0.13987591652566267\n"
          ]
        }
      ]
    },
    {
      "cell_type": "markdown",
      "source": [
        "# Parámetros y gráfica"
      ],
      "metadata": {
        "id": "QmGsbNp7GofT"
      }
    },
    {
      "cell_type": "code",
      "source": [
        "theta_ref = 30*np.pi/180 #Define el ángulo de indicencia del haz de referencia con el vidrio\n",
        "theta_obj = 60*np.pi/180#Define el ángulo de indicencia del haz objeto con el vidrio\n",
        "n1 = 0.00275 #Define la amplitud de la modulación espacial del índice de refracción\n",
        "d = 16 #Define el espesor del material\n",
        "Lambda, phi = registro(lambda_verde, theta_ref, theta_obj, n_material)\n",
        "thetas = np.arange(-3.5, 6.5, 0.01)\n",
        "plt.figure()\n",
        "#plt.plot(thetas, kogelnik(lambda_azul, thetas*np.pi/180, n_material, Lambda, phi, n1, alpha1, alpha, d), 'red', label = 'DE')\n",
        "plt.plot(thetas-0.3, 1-kogelnik(lambda_azul, thetas*np.pi/180, n_material, Lambda, phi, n1, alpha1, alpha, d), color = 'fuchsia', label = 'Kogelnik @ 473 nm')\n",
        "plt.plot(degree_final+0.55, (power_final), 'o', label = 'TE_473', color = 'blue')\n",
        "plt.ylim(0, 1.01)\n",
        "\n",
        "plt.xlabel('$\\Theta (º)$')\n",
        "plt.ylabel('$\\eta (\\%)$')\n",
        "plt.title('d = ' + str(d) + '$\\mu m$' + ', ' + '$n_1 =$' + str(n1) + ', ' + '$\\eta = $' + str(rendimiento.round(4)))\n",
        "plt.legend(loc = 'lower right')\n",
        "plt.show()\n",
        "#scipy optimizacion curv"
      ],
      "metadata": {
        "colab": {
          "base_uri": "https://localhost:8080/",
          "height": 476
        },
        "id": "V70OcIWeCEUC",
        "outputId": "9da489eb-b9fb-4a9d-82c3-f586c2c5798a"
      },
      "execution_count": null,
      "outputs": [
        {
          "output_type": "display_data",
          "data": {
            "text/plain": [
              "<Figure size 640x480 with 1 Axes>"
            ],
            "image/png": "[encoded data removed]"
          },
          "metadata": {}
        }
      ]
    },
    {
      "cell_type": "markdown",
      "source": [
        "# Parámetros y gráfica 2"
      ],
      "metadata": {
        "id": "QMKYnJwVCEyR"
      }
    },
    {
      "cell_type": "code",
      "source": [
        "theta_ref = 30*np.pi/180 #Define el ángulo de indicencia del haz de referencia con el vidrio\n",
        "theta_obj = 60*np.pi/180#Define el ángulo de indicencia del haz objeto con el vidrio\n",
        "n1 = 0.00275 #Define la amplitud de la modulación espacial del índice de refracción\n",
        "d = 16 #Define el espesor del material\n",
        "Lambda, phi = registro(lambda_verde, theta_ref, theta_obj, n_material)\n",
        "thetas = np.arange(-3.5, 6.5, 0.01)\n",
        "\n",
        "fig, axes = plt.subplots()\n",
        "line1, = axes.plot(thetas-0.3, 1-kogelnik(lambda_azul, thetas*np.pi/180, n_material, Lambda, phi, n1, alpha1, alpha, d), color = 'fuchsia', label = 'Kogelnik @ 473 nm')\n",
        "line2, = axes.plot(degree_final+0.55, power_final, 'o', label = 'TE$_{473}$', color = 'blue')\n",
        "axes.set_xlabel('$\\Theta_{473} (º)$')\n",
        "axes.set_ylabel('$\\eta (\\%)$')\n",
        "axes.set_xlim(-4, 6)\n",
        "\n",
        "twin_axes = axes.twiny()\n",
        "line3, = twin_axes.plot(-degree_final2[30:len(degree_final2)]-0.15, power_final2[30:len(degree_final2)], 'o', label = 'TE$_{532}$', color = 'limegreen')\n",
        "twin_axes.set_xlabel('$\\Theta_{532} (º)$')\n",
        "twin_axes.set_xlim(-36, -24)\n",
        "\n",
        "plt.title('d = ' + str(d) + '$\\mu m$' + ', ' + '$n_1 =$' + str(n1) + ', ' + '$\\eta_{473} = $' + str(rendimiento.round(4))+ ', ' + '$\\eta_{532} = $' + str(rendimiento2.round(4)))\n",
        "lines = [line1, line2, line3]\n",
        "labels = [line.get_label() for line in lines]\n",
        "axes.legend(lines, labels, loc='lower right')\n",
        "axes.set_ylim(0.83, 1.01)\n",
        "plt.show()\n",
        "#scipy optimizacion curv."
      ],
      "metadata": {
        "colab": {
          "base_uri": "https://localhost:8080/",
          "height": 519
        },
        "id": "5f5gxXKIGhE_",
        "outputId": "c72f5612-f982-4f06-9f81-50d2c83f2149"
      },
      "execution_count": null,
      "outputs": [
        {
          "output_type": "display_data",
          "data": {
            "text/plain": [
              "<Figure size 640x480 with 2 Axes>"
            ],
            "image/png": "[encoded data removed]"
          },
          "metadata": {}
        }
      ]
    }
  ]
}